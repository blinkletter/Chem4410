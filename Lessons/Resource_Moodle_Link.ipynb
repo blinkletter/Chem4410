{
 "cells": [
  {
   "cell_type": "markdown",
   "id": "d8343b47",
   "metadata": {},
   "source": [
    "# Moodle Resource Link\n",
    "\n",
    "The resource that you are looking for can be found at the following link.\n",
    "\n",
    "https://moodle31.upei.ca/course/view.php?id=12309\n",
    "\n",
    "Only registered students will have access to the resources on moodle."
   ]
  }
 ],
 "metadata": {
  "kernelspec": {
   "display_name": "Python 3 (ipykernel)",
   "language": "python",
   "name": "python3"
  },
  "language_info": {
   "codemirror_mode": {
    "name": "ipython",
    "version": 3
   },
   "file_extension": ".py",
   "mimetype": "text/x-python",
   "name": "python",
   "nbconvert_exporter": "python",
   "pygments_lexer": "ipython3",
   "version": "3.9.7"
  }
 },
 "nbformat": 4,
 "nbformat_minor": 5
}

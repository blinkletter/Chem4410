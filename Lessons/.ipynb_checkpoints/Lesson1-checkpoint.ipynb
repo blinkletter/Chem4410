{
 "cells": [
  {
   "cell_type": "markdown",
   "id": "5cf3600b",
   "metadata": {},
   "source": [
    "\n",
    "# Lesson 1: Remembering The Past\n",
    "Life is about **making** things and **breaking** things, mostly chemical bonds. All of the reactions of the famous **glycolysis** pathway can be understood using organic chemistry. A deeper understanding of **physical organic chemistry** will enable you to interpret how **enzymes** provide the catalysis that enable the pathway to operate at the speed needed to be meaniful in providing **energy** for cells. Let us embark on our journey to greater understanding of all chemical reactions that make and break bonds by **reviewing** a small slice of our **previous experience**.\n",
    "\n",
    "Our first two meetings will focus on reviewing organic chemistry.  \n",
    "\n",
    "\n",
    "## Wednesday\n",
    "In our first meeting you will be asked to **propose a mechanism** for the hydrolysis of t-butyl bromide in acidic water, for the elimination reaction of t-butyl bromide in basic water, and for the hydrolysis of methyl acetate in both acidic and basic water. Your challenge will be to not only propose the **correct** mechanism, but to propose **every possible** mechanism. Then **evaluate** each mechanism and **explain** why you think each may be unlikely or likely to contribute to the observed rate of the reaction. You will leave the meeting with a handout of reactions to review for Friday.\n",
    "\n",
    "### Reading\n",
    "There is no reading to do in advance of starting the course however you will want to very quickly **review appendix 5 of the textbook** and try the problems you see there.\n",
    "\n",
    "> Read appendix 5 of textbook (pages 1061 to 1074)\n",
    "\n",
    "### Suggested Problems\n",
    "During our first meeting we will attempt a few selections the following problems in from appendix 5. You should attempt all of them on your own after the class.\n",
    "\n",
    "> Appendix 5: problems 1, 2, 3 & 4\n",
    "\n",
    "## Friday\n",
    "In our second meeting there will be a **short quiz** featuring a few of the reactions that you were given to review. We will **discuss** the problems suggested previously from appendix 5. be prepared to contribute. We will try to define what is meant by the words \"physical organic chemsitry\" and I will also introduce my vision of wrapping the activities of this course around computer tools. Finally the topics for the **next lesson** will be introduced. **Look ahead** to Lesson 2 to see what you should prepare for Monday. \n",
    "\n",
    "### Reading\n",
    "\n",
    "For this second meeting in the course I would like you to **come prepared** to discuss the idea of \"what is physical organic chemistry?\" In preparation please complete the following reading.\n",
    "> Read the preface of your textbook (pages xxiii to xxiv)\n",
    ">\n",
    "> Also read \"Physical-Organic Chemistry: A Swiss Army Knife.\" G.M. Whitesides, *Isr. J. Chem.*, **2016**, *56*, 66-82. https://doi-org.proxy.library.upei.ca/10.1002/ijch.201500061\n",
    "\n",
    "### Links to Journals\n",
    "I will only ask you to read journal articles to which UPEI has **subscription access**. However, you may find these lins only work on campus. So you will want to **plan ahead** and download any journal articles while you are on campus."
   ]
  },
  {
   "cell_type": "code",
   "execution_count": null,
   "id": "27529118",
   "metadata": {},
   "outputs": [],
   "source": []
  }
 ],
 "metadata": {
  "kernelspec": {
   "display_name": "Python 3 (ipykernel)",
   "language": "python",
   "name": "python3"
  },
  "language_info": {
   "codemirror_mode": {
    "name": "ipython",
    "version": 3
   },
   "file_extension": ".py",
   "mimetype": "text/x-python",
   "name": "python",
   "nbconvert_exporter": "python",
   "pygments_lexer": "ipython3",
   "version": "3.9.7"
  }
 },
 "nbformat": 4,
 "nbformat_minor": 5
}

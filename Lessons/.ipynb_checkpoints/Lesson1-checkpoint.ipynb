{
 "cells": [
  {
   "cell_type": "markdown",
   "id": "5cf3600b",
   "metadata": {},
   "source": [
    "\n",
    "# Lesson 1: Remembering The Past\n",
    "Life is about **making** things and **breaking** things, mostly chemical bonds. All of the reactions of the famous **glycolysis** pathway can be understood using organic chemistry. A deeper understanding of **physical organic chemistry** will enable you to interpret how **enzymes** provide the catalysis that enable the pathway to operate at the speed needed to be meaniful in providing **energy** for cells. Let us embark on our journey to greater understanding of all chemical reactions that make and break bonds by **reviewing** a small slice of our **previous experience**.\n",
    "\n",
    "Our first two meetings will focus on reviewing organic chemistry.  \n",
    "\n",
    "## Wednesday\n",
    "In our first meeting you will be asked to **propose a mechanism** for the hydrolysis of t-butyl bromide in acidic water, for the elimination reaction of t-butyl bromide in basic water and for the hydrolysis of methyl in both acidic and basic water. Your challenge will be to not only propose the **correct** mechanism, but to propose **every possible** mechanism. Then **evaluate** each mechanism and **explain** why you think each may be unlikely or likely to contribute to the observed rate of the reaction.  \n",
    "\n",
    "You will leave the meeting with a handout of reactions to review for Friday.\n",
    "\n",
    "## Friday\n",
    "In our second meeting there will be a **short quiz** featuring a few of the reactions that you were given to review. Then we will discuss the **grading scheme** for the course and I'll take any comments under advisement. I will also introduce my vision of wrapping the activities of this course around computer tools. Finally the topics for the **next lesson** will be introduced. **Look ahead** to Lesson 2 to see what you should prepare for Monday. "
   ]
  },
  {
   "cell_type": "code",
   "execution_count": null,
   "id": "27529118",
   "metadata": {},
   "outputs": [],
   "source": []
  }
 ],
 "metadata": {
  "kernelspec": {
   "display_name": "Python 3 (ipykernel)",
   "language": "python",
   "name": "python3"
  },
  "language_info": {
   "codemirror_mode": {
    "name": "ipython",
    "version": 3
   },
   "file_extension": ".py",
   "mimetype": "text/x-python",
   "name": "python",
   "nbconvert_exporter": "python",
   "pygments_lexer": "ipython3",
   "version": "3.9.7"
  }
 },
 "nbformat": 4,
 "nbformat_minor": 5
}

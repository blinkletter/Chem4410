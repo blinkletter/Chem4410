{
 "cells": [
  {
   "cell_type": "markdown",
   "id": "5cf3600b",
   "metadata": {},
   "source": [
    "![PhyOrg](PhysOrg.png)\n",
    "# Physical Organic Chemistry\n",
    "It all boils down to this. **Physical organic chemistry** unites all the fields and all the tools of chemistry in its relentless search for patterns. Can we use the observations in one system to predict the outcome of another? That is the question here.\n",
    "\n",
    "This search involves data. How do we **measure rates and energies** in changing chemical systems? How do we **design  experiments** so that these measurements can reveal the inner workings of chemical reactions? How do we use that data to **make predictions** that guide the creation of new methods and new molecules? \n",
    "\n",
    "At the end of this course you will be able to better propose **mechanisms for chemical reactions**, investigate your hypothesis and understand how to apply that information to predict the outcomes of related reactions. You will use these skills in this course by exploring examples of physical organic chemistry as it applies to **catalysis** of reactions, **enzyme chemistry and drug design**, and the true nature of **electronic structure** in molecules and how that controls their destiny."
   ]
  }
 ],
 "metadata": {
  "kernelspec": {
   "display_name": "Python 3 (ipykernel)",
   "language": "python",
   "name": "python3"
  },
  "language_info": {
   "codemirror_mode": {
    "name": "ipython",
    "version": 3
   },
   "file_extension": ".py",
   "mimetype": "text/x-python",
   "name": "python",
   "nbconvert_exporter": "python",
   "pygments_lexer": "ipython3",
   "version": "3.9.7"
  }
 },
 "nbformat": 4,
 "nbformat_minor": 5
}
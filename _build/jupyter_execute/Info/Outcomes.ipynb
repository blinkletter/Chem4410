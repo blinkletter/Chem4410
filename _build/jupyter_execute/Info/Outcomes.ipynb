{
 "cells": [
  {
   "cell_type": "markdown",
   "id": "5cf3600b",
   "metadata": {},
   "source": [
    "# Outcomes\n",
    "\n",
    "One must approach all endeavours with a **set of goals**. Here are the expected outcomes of a university education, the chemistry department, and this course.\n",
    "\n",
    "## University Outcomes\n",
    "Students who have completed a **bachelors degree** at a university will have acheived the following goals:\n",
    "\n",
    "- Be able to **gather information** through a well documented process of **inquiry**.\n",
    "- Be able to **analyze amd interpret** that information and produce a **conclusion**.\n",
    "- Be able to effectively **communicate** the conclusion, the original data and the methods used in the anaylsis\n",
    "- Have mastered a selection of **tools and methods** to accomplish the above within their field of endeavour.\n",
    "- Be able to work with others demonstrating **leadership and collaborative skills** and to be able to function as a member of an interdisciplinary **problem solving** team.\n",
    "- Have become **independent thinkers** who are responsible for their own learning.\n",
    "- Have demonstrated the principles of **academic integrity** in all their scholarly activities.\n",
    "\n",
    "## Program Outcomes\n",
    "Students who complete a **BSc in chemistry** will have acheived the following goals:\n",
    "\n",
    "- Have developed an understanding of the principles of various **fields of chemistry** (organic, inorganic, physical, analytical, and biochemistry).\n",
    "- Understand the **role of chemistry** in making the world around us better for everyone; and understand the risks and harms that can be caused by chemistry in that pursuit of a better world.\n",
    "- Be able to **safely conduct oneself in chemical laboratory**, and by extension, any location where chemistry is applied.\n",
    "- Be able to **use a variety of modern instruments** for separating and analyzing mixtures and for characterizing molecules and materials and to be able to **apply these skills** to appropriate chemical problems.\n",
    "- Be able to **design and carry out scientific experiments**, accurately record and analyze the results of such experiments and be able to **explore new areas of research** in both chemistry and allied fields of science and technology.\n",
    "- Be able to **document activities** so that others can understand how to repeat and continue the work.\n",
    "- Be able to interpret the modern primary literature of chemistry and to **produce scientific reports** formatted for peer-reviewed publication.\n",
    "- Be able to **communicate** the results, conclusions, and relevance of scientific experiments to a specific audience in a variety of formats.\n",
    "- **Honours students** will have greater exposure to upper level chemistry courses and an experience in **research** under a supervisor with the goal of producing a research **thesis** and publicly presenting the results.\n",
    "\n",
    "## Course Outcomes\n",
    "\n",
    "Students who successfuly complete this course of study in physical organic chemistry will have acheived the following goals:\n",
    "\n",
    "- Be able to **describe molecular structure** by the use of the valence bonding theory and molecular orbital theory.\n",
    "- Be able to use **computational tools** to determine optimized structures of small molecules and interpret the energetics of simple reactions.\n",
    "- Be able to **design experiments** to determine the kinetic and thermodynamic proberties of a reaction and to **interpret the results** of those experiments.\n",
    "- Be familiar with different types of **reaction mechanisms** and be able to describe different types of **reactive intermediates**.\n",
    "- Be able to **propose a reaction mechanism** after examining the reactants and products of a reaction.\n",
    "- Be able to use reaction kinetics as a tool for **understanding reaction mechanisms**.\n",
    "- To have developed a deeper understanding of **acid/base equilibria** in aqueous and non-aqueus systems and to be able to determine if a reaction is **acid or base catalyzed** (specific or general catalysis).\n",
    "- Be able to apply fundamental concepts of **chemical and biochemical catalysis**.\n",
    "- Be able to **investigate** a hypothetical reaction mechanism by: \n",
    "    - the use of the **Hammett equation** as a tool in studies of organic reactions \n",
    "    - the use of other **linear free energy relationships** (LFERs)\n",
    "    - by the inclusion of **isotopes** \n",
    "    - by using a variety of **other methods**\n",
    "- Be able to explain **steric and electronic effects** in several important reactions.\n",
    "- To have developed an understanding of the nature of the **transition state** and how the structure of the transition state can change with steric and electronic effects.\n",
    "- Be better able to choose a suitable **solvent and conditions** for a reaction.\n",
    "- Have improved **computer skills** in data analysis, chemical investigation and record keeping.\n",
    "\n",
    "## Self Evaluation\n",
    "\n",
    "Almost all students in this course will be in the final year of the chemistry program. **Now is the time** to evaluate yourself as you consider the goals for university and program outcomes. How do you feel? Do you have a sense that you are you well on the way to acheiving them? Are there any weakness that we could address while you are taking this course?\n",
    "\n",
    "Also consider the goals for the course outcomes of this course. You might feel that you have accomplished some of them already. **Return to this list** every few weeks and check off the goals you feel you have reached or are progressing through. By monitoring your progress you will better be able to see where we need to do more work to ensure that all goals are met. Never hesitate to **ask for more** in one area or another."
   ]
  },
  {
   "cell_type": "code",
   "execution_count": null,
   "id": "5ba8d6e4",
   "metadata": {},
   "outputs": [],
   "source": []
  }
 ],
 "metadata": {
  "kernelspec": {
   "display_name": "Python 3 (ipykernel)",
   "language": "python",
   "name": "python3"
  },
  "language_info": {
   "codemirror_mode": {
    "name": "ipython",
    "version": 3
   },
   "file_extension": ".py",
   "mimetype": "text/x-python",
   "name": "python",
   "nbconvert_exporter": "python",
   "pygments_lexer": "ipython3",
   "version": "3.9.7"
  }
 },
 "nbformat": 4,
 "nbformat_minor": 5
}
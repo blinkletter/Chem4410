{
 "cells": [
  {
   "cell_type": "markdown",
   "id": "5cf3600b",
   "metadata": {},
   "source": [
    "# Course Outline\n",
    "\n",
    "To acheive our goals we must examine the following ideas.\n",
    "\n",
    "## The Past is Prologue\n",
    "\n",
    "We will begin with reviewing some of the core ideas of chemistry focussing on structure and energy. This will not be a review; it will be a **deep dive**. There are things we did not tell you. You are ready at last.\n",
    "\n",
    "We must first start with a understanding of molecular structure. We will consider the **nature of the chemical bond**. Its not a line on a page, it is an arrangement of electrons and nuclei that form a stable system. The bond and the ability to change it are affected by the system. Changes in structure can affect the energy and therefor the reactivity. **Structure affects reactivity**. \n",
    "\n",
    "To investigate the effect of structural changes on the electronic arrangement in a bond within a molecule, we will need to consider the quantum nature of system. We will use simple linear combinations of **atomic orbitals** to build graphical models of **molecular orbitals** in small molecules using no math whatsoever. Then we will use simple math to estimate the **energies and electon densities** in $\\pi$ systems and explore the depths of **electron delocalization and aromaticity**. We will then dip our toes into the field of real math without knowing what we are doing by using a **computational chemistry** tool to calculate more exact structure and energies for reactants. itermediates and products. \n",
    "\n",
    "One of the most obvious ways to show the affect of structure on the energy of a chemical bond is **strain**. A carbon-carbon bond in a 4-membered ring is higher in energy that the same in a 5-membered ring. To explore this idea we will consider the idea of **thermochemistry** and how the relative energies of molecules can be revealed by burning them.\n",
    "\n",
    "## Seeing Farther\n",
    "\n",
    "Now we will move into topics that are familiar but include new ideas for interpreting how structure affects reactivity. \n",
    "\n",
    "To fully understand how structure influences reactivity, we must understand the path from reactant to product. We will develope a deeper understanding of the **reaction coordinate and the transition state**. We will see how changing the structure of reactants can change the timing of bond changes in the transition state. We will express this via 2-dimensional reaction coordinate diagrams and 3-dimensional reaction **energy surfaces** as we try to get as close to the truth as simple line drawings will permit.\n",
    "\n",
    "We will explore **acid/base chemistry** yet again. The fifth time is the charm. The math of acid equilibria will be explored using computational tools and we will leave the world of water behind and experience a place where strong acids show their true power. How can you **measure** the pH of pure sulphuric acid? Physical organic chemistry will show you.\n",
    "\n",
    "## Structure and Reactivity\n",
    "\n",
    "The heart of physical organic chemistry is the **correlation** of one system with another. Changing structure of benzoic acids changes the pKa value. Can we measure the **electronic effect** of these structure changes using $pK_a$ values as the score? Can we score the **size** of chemical groups by how they affect the rate of a given reaction? Can we then use these scores to study the **mechanism** of unrelated sytems? Yes we can. Free energy changes in one system may relate to free energy changes in another system. With these scoring systems we can see if there is a correlation and draw conclusions from that information. These correlations are called **linear free energy relationships (LFER)** and this idea is the most famous contribution of physical organic chemistry to the world.\n",
    "\n",
    "If we can quantify how structure affects reactivity, perhaps we can quantify how structure affects the activity of drugs. This is the idea of **quatitative structure-activity relationships (QSAR)** and is a majot tool in drug development. Drug companies are investing billions of dollars into the big data of drug discovery. They have now moved on to AI. What's next\n",
    "\n",
    "Even tiny changes can have measurable effects. Changing a hydrogen for another type of hydrogen, deuterium, can have measurable effects on the energy of a reaction. We can investigate a reaction through structural changes that are not really changes. This will be especially useful where slight changes in size may be a deal breaker, such as in enzyme mechanisms. It is often a very easy change to make if the protons involved are even slightly acidic. This idea is called the **kinetic isotope effect** and it is an important tool.\n",
    "\n",
    "We can interpret the details in chemical reaction mechanism through other observations and detective work. There are many **clever methods** and we will explore several options and encounter others as we consider examples of physical organic chemistry.\n",
    "    \n",
    "## Examples \n",
    "\n",
    "**We can go anywhere** now. What would you like to investigate? Each year we will create a body of work that future students can build on.  We will begin with biologica;lly relevant **examples of catalysis** and then we will **go wherever you wish**. Would you like to explore physical organic chemistry as it is applied to a **particular problem**? Would you like to **survey the work** of a significant physical organic chemist? We can do anything. And we will record it all in the form of a Jupyterbook and perhaps we might even contribute to wikipedia.\n",
    "\n",
    "\n",
    "# Topics\n",
    "\n",
    "Below is a list of topics and the corresponding textbook sections.\n",
    "\n",
    "\n",
    "|Week   |\tTopic\t                               | Reading                  |\n",
    "| :---- | :--------------------------------------- | :----------------------- |\n",
    "|1\t    |Remembering the Past\t                   | Appendix 5 & handout     |\n",
    "|2\t    |Molecular structure\t                   | Ch. 1 & handout          | \n",
    "|3\t    |Calculating bonds \\& molecular orbitals   | Ch. 1 \\& Ch. 14          | \n",
    "|4\t    |Thermochemistry and Steric Strain\t       | Ch. 2                    |\n",
    "|5\t    |Acids and Bases\t                       | Ch. 5                    |\n",
    "|6\t    |Break Week\t                               |                          |\n",
    "|7\t    |Kinetics and Transition States            | Ch. 7                    |\n",
    "|8\t    |Tools of Physical Organic Chemistry\t   | Ch. 8.2 to 8.7           |\n",
    "|9\t    |Tools of Physical Organic Chemistry\t   | Ch. 8.1                  |\n",
    "|10\t    |Catalysis\t                               | Ch.9                     |\n",
    "|11\t    |Student Presentations\t                   | Ch. 8.8                  |\n",
    "|12\t    |Example Reaction Mechanisms\t           | Ch. 10                   |\n",
    "|13\t    |Example Reaction Mechanisms\t           | Ch. 11                   |\n",
    "|14\t    |More Examples                             | Ch. 10 & 11              |\n",
    "\n"
   ]
  },
  {
   "cell_type": "code",
   "execution_count": null,
   "id": "5ba8d6e4",
   "metadata": {},
   "outputs": [],
   "source": []
  }
 ],
 "metadata": {
  "kernelspec": {
   "display_name": "Python 3 (ipykernel)",
   "language": "python",
   "name": "python3"
  },
  "language_info": {
   "codemirror_mode": {
    "name": "ipython",
    "version": 3
   },
   "file_extension": ".py",
   "mimetype": "text/x-python",
   "name": "python",
   "nbconvert_exporter": "python",
   "pygments_lexer": "ipython3",
   "version": "3.9.7"
  }
 },
 "nbformat": 4,
 "nbformat_minor": 5
}
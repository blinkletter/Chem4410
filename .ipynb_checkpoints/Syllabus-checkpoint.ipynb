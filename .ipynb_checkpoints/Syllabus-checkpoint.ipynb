{
 "cells": [
  {
   "attachments": {},
   "cell_type": "markdown",
   "id": "5cf3600b",
   "metadata": {},
   "source": [
    "# Syllabus\n",
    "Welcome to Chemistry 4410: Physical Organic Chemistry\n",
    "\n",
    "## Course Description\n",
    "\n",
    "This course examines the qualitative and quantitative relationships between the rates and mechanisms of organic reactions, and the electronic and physical structures of reactants. Among the topics considered are: theory and applications of inductive and resonance effects, linear free energy relationships, kinetic isotope effects, solvent effects, steric effects in substitution and elimination reactions, acids and bases and pericyclic reactions, applications of semi-empirical and ab initio molecular orbital calculations. <br>\n",
    "Three lecture hours a week <br>\n",
    "Prerequisite: Chemistry 2420, 3420\n",
    "\n",
    "## Meeting Location and Schedule\n",
    "We meet in KCI 202 at 9:30 on MWF.\n",
    "\n",
    "## Instructor.\n",
    "Dr. Barry Linkletter\n",
    "\n",
    "B.Sc. - University of Prince Edward Island  <br>\n",
    "Ph.D. – McGill University (Jik Chin)<br>\n",
    "Post Doc. – University of California at Santa Barbara (T.C. Bruice)\n",
    "\n",
    "## Contact Information\n",
    "Room 213 <br>\n",
    "KCI Chemistry Building <br>\n",
    "628-4328 <br>\n",
    "blinkletter@upei.ca <br>\n",
    "Course materials and communications are available through Moodle.\n",
    "\n",
    "\n",
    "## Office Hours\n",
    "I will be available for office hours at the times listed below. I am also available anytime you want to make an appointment. You can drop by my office or you can arrange to communicate over the web.\n",
    "### Scheduled Office Hours\n",
    "Momndat to Thursday: 10:30 – 11:15 in my office.\n",
    "### Preparation\n",
    "Come prepared with your question and be able to describe the problem and your attempts to solve it. Do not come to my office and expect to go through the notes of the entire class or just be handed an answer. You should read the book, talk with classmates and make a real attempt to solve the problem before coming to me. I will most likely answer your question with a question that will hopefully guide you in the correct direction. I will rarely give the answer. It is my goal to develop the independent learning skills of my students. You can solve any problem if you apply the necessary resources. Be confident, plunge ahead and come to me if you get stuck.\n",
    "\n"
   ]
  }
 ],
 "metadata": {
  "kernelspec": {
   "display_name": "Python 3 (ipykernel)",
   "language": "python",
   "name": "python3"
  },
  "language_info": {
   "codemirror_mode": {
    "name": "ipython",
    "version": 3
   },
   "file_extension": ".py",
   "mimetype": "text/x-python",
   "name": "python",
   "nbconvert_exporter": "python",
   "pygments_lexer": "ipython3",
   "version": "3.9.7"
  }
 },
 "nbformat": 4,
 "nbformat_minor": 5
}

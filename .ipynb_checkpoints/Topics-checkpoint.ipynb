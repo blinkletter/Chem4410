{
 "cells": [
  {
   "cell_type": "markdown",
   "id": "5cf3600b",
   "metadata": {},
   "source": [
    "# Topics\n",
    "\n",
    "Below is a list of topics and the corresponding textbook sections.\n",
    "\n",
    "|    Topic      |   Textbook Section   |\n",
    "| :------------ | :------------- |\n",
    "|    Chemical bonding and structure      |        Ch. 1       |\n",
    "|    Calculating bonds \\& molecular orbitals     |      Ch. 1 \\& Ch. 14      |\n",
    "|    Strained bonds     |     Ch. 2      |\n",
    "|    Reaction kinetics and transition state structure     |     Ch. 7      |\n",
    "|    Acids and bases     |     Ch. 5      |\n",
    "|    LFER     |     Ch. 8.2 to 8.7      |\n",
    "|    Isotope effects     |     Ch. 8.1      |\n",
    "|    Investigating mechanism     |     Ch. 8.8      |\n",
    "|    Catalysis     |     Ch. 9      |\n",
    "|    More examples     |     Ch. 10 \\& Ch. 11      |"
   ]
  }
 ],
 "metadata": {
  "kernelspec": {
   "display_name": "Python 3 (ipykernel)",
   "language": "python",
   "name": "python3"
  },
  "language_info": {
   "codemirror_mode": {
    "name": "ipython",
    "version": 3
   },
   "file_extension": ".py",
   "mimetype": "text/x-python",
   "name": "python",
   "nbconvert_exporter": "python",
   "pygments_lexer": "ipython3",
   "version": "3.9.7"
  }
 },
 "nbformat": 4,
 "nbformat_minor": 5
}

{
 "cells": [
  {
   "cell_type": "markdown",
   "id": "5cf3600b",
   "metadata": {},
   "source": [
    "# Essential Tools\n",
    "\n",
    "Before you read any farther you need to know about the **tools** that are **needed** to succeed in this course. At the start of medical school student buy their very own stethoscope. They need it to succeed and they **invest in their success**. The same is true for any university course. There are some things you will need and cannot do without.\n",
    "\n",
    "## Your Textbook\n",
    "\n",
    "\"[Modern Physical Organic Chemistry](https://uscibooks.aip.org/books/modern-physical-organic-chemistry/)\" by Eric V. Anslyn and Dennis A. Dougherty. University Science Books.\n",
    "\n",
    "**This book is tour de force**. It covers the basics of physical organic chemistry (and that is our goal in this course) and then has chapters that feature how the what you learned here **can be applied in just about any field of chemistry**. Supramolecular chemistry? check? COnductive polymers? Check. theoretical chemistry? Check. The textbook is available in the book store and has an ebook option available from the publisher. **All chapters and problem assignments will refer to this book**.\n",
    "\n",
    "This document **is not** the textbook. The textbook for this course was **written** by two emminent physical organic chemists and then **peer reviewed** and corrects by dozens more. I encourage you to buy the texbook and keep it for life. Look around you. How many students are in this class? I guarantee you that no one is making money from this book. It is a gift from old physical organic chemists to the next generation. However, if we do not support efforts like this then we may never see a second edition. These guys are far too old for a patreon account. Please **do not pirate** textbooks. I know it is easy to do but someday you may be writing a textbook of your own. Start on your karma now.\n",
    "\n",
    "\n",
    "## Your Computer\n",
    "\n",
    "Welcome to the modern world. For the past 20 years students have **needed computers to succeed** in university. We haven't moved on to phones yet, so you will need access to a computer with the tools listed below. These tools will be available on many campus computers. I have selected only free software options that you can install on your own computer if you wish. **We will not be  programming**, we will be learning how to use programs. Any coding will be set up for you in advance and I likely stole it all from somewhere else on the web myself. I am not a coder, I am a **user**, and [users are gods](https://en.wikipedia.org/wiki/Tron).\n",
    "\n",
    "1. Interactive Python with the Jupyter notebook environment\n",
    "    * This can be acquired via the [Anaconda](https://www.anaconda.com/) package, available for all operating systems. We will be using Python for our data anaysis and plotting. You will see that it is a powerful tool that you will be using for the forseeable future in your scientific career. The Anaconda system also includes \"R\" and other tools, but we will keep it simple and stick with Python. \n",
    "2. GAMESS computation chemistry application\n",
    "    - We can calculate the structure and energies of small molecules on your own computer. Using this we can immediately see the effects of structure changes on bonds in a molecule. We will also be able to visualize molecular orbitals. [GAMESS](https://www.msg.chem.iastate.edu/gamess/) is a minor nightmare to get going and is dependant on a command line skill set. We will all struggle together.   \n",
    "3. A chemical drawing program\n",
    "    - There are many options. I recommend the [Marvin](https://chemaxon.com/products/marvin) package from ChemAxon. It will run on any operating system.   \n",
    "4. Avogadro\n",
    "    - [Avogadro](https://avogadro.cc/) is a free chemical visualization program. It can read and write files that interface with GAMESS and perform simple structural optimizations. \n",
    "5. The usual stuff\n",
    "    - You will need a word processor, spreadsheet and presentation program. A free option is the [LibreOffice](https://www.libreoffice.org/) package but [Office 365](https://www.upei.ca/learning2020/technology-basics/useful-applications) is available to all students via the university. I recommend the commercial offering in this case, since it is already paid for.\n",
    "\n",
    "## Your Time\n",
    "\n",
    "This course will require your time. Only you can explore the concepts of the lessons by **investing your time**. You will need time to **read the textbook** and consider the **suggested problems**; time to struggle with using the software tools as we explore **data analysis** and computational chemistry; time to **write reports** and prepare and practice **presentations**; and time to **relax**.[^time]\n",
    "\n",
    "[^time]: Life tip: your house must be worth more than your car. Your car must be worth more than your computer. Your time must be worth more than any of those things. Are you staring at your phone right now? if so, you are wasting your most valuable thing. You can get your money back, you cannot get your time back.\n"
   ]
  },
  {
   "cell_type": "code",
   "execution_count": null,
   "id": "5ba8d6e4",
   "metadata": {},
   "outputs": [],
   "source": []
  }
 ],
 "metadata": {
  "kernelspec": {
   "display_name": "Python 3 (ipykernel)",
   "language": "python",
   "name": "python3"
  },
  "language_info": {
   "codemirror_mode": {
    "name": "ipython",
    "version": 3
   },
   "file_extension": ".py",
   "mimetype": "text/x-python",
   "name": "python",
   "nbconvert_exporter": "python",
   "pygments_lexer": "ipython3",
   "version": "3.9.7"
  }
 },
 "nbformat": 4,
 "nbformat_minor": 5
}
